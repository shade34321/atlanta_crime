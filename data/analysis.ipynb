{
 "cells": [
  {
   "cell_type": "code",
   "execution_count": 12,
   "metadata": {},
   "outputs": [],
   "source": [
    "import pandas as pd\n",
    "import numpy as np\n",
    "from sklearn.preprocessing import LabelEncoder\n",
    "from sklearn.datasets import make_multilabel_classification\n",
    "from sklearn.multiclass import OneVsRestClassifier\n",
    "from sklearn.ensemble import RandomForestClassifier\n",
    "from sklearn.tree import DecisionTreeClassifier, export_graphviz\n",
    "from sklearn.svm import SVC\n",
    "from sklearn.metrics import precision_score, recall_score, f1_score, precision_recall_curve\n",
    "from sklearn.linear_model import LinearRegression\n",
    "\n",
    "le = LabelEncoder()"
   ]
  },
  {
   "cell_type": "code",
   "execution_count": 2,
   "metadata": {},
   "outputs": [],
   "source": [
    "database = pd.read_csv('COBRA-YTD2017.csv')"
   ]
  },
  {
   "cell_type": "code",
   "execution_count": 3,
   "metadata": {},
   "outputs": [],
   "source": [
    "database.rename(columns={'UC2 Literal' : 'Crime', 'occur_time': 'time', 'MaxOfnum_victims': 'victims', 'Avg Day': 'day'}, inplace=True)\n",
    "# database.head()"
   ]
  },
  {
   "cell_type": "code",
   "execution_count": 4,
   "metadata": {},
   "outputs": [],
   "source": [
    "# NOTE : I removed rows where victims are only 1, it screws up the results.\n",
    "# database.day.unique()\n",
    "arr = [23, 24, 21, 19, 27, 17, 15]\n",
    "database = database[database.victims != 23]\n",
    "database = database[database.victims != 24]\n",
    "database = database[database.victims != 21]\n",
    "database = database[database.victims != 19]\n",
    "database = database[database.victims != 27]\n",
    "database = database[database.victims != 17]\n",
    "database = database[database.victims != 15]\n",
    "# database = database[database.Crime != 'LARCENY-FROM VEHICLE']\n",
    "array = database.Crime.unique()"
   ]
  },
  {
   "cell_type": "code",
   "execution_count": 5,
   "metadata": {},
   "outputs": [],
   "source": [
    "# NOTE: Clean up database and remove strings basically.\n",
    "\n",
    "arr = []\n",
    "\n",
    "# NOTE: Crime column.\n",
    "array = le.fit((np.array(database.Crime.unique())).tolist())\n",
    "database.Crime = le.transform((np.array(database.Crime)).tolist())\n",
    "\n",
    "# NOTE: Day column\n",
    "le.fit(np.array(database.day.unique()).tolist())\n",
    "database.day = le.transform((np.array(database.day)).tolist())\n",
    "\n",
    "# NOTE : Neighborhood\n",
    "le.fit(np.array(database.neighborhood.unique()).tolist())\n",
    "database.neighborhood = le.transform(np.array(database.neighborhood).tolist())\n",
    "\n",
    "database.victims = database.victims.fillna(0)\n",
    "\n",
    "# NOTE : Extract hour\n",
    "database['hour'] = pd.to_datetime(database.time).dt.hour\n",
    "\n",
    "# NOTE : Extract month\n",
    "database['month'] = pd.to_datetime(database.occur_date).dt.month\n",
    "\n",
    "# NOTE : Extract day\n",
    "database['days'] = pd.to_datetime(database.occur_date).dt.day\n",
    "\n",
    "# Take relevant data to different DataFrame\n",
    "df = database[['Crime', 'day', 'days', 'hour', 'victims', 'neighborhood', 'x', 'y', 'month']]\n",
    "\n",
    "# Make dummy variables\n",
    "df = df.join(pd.get_dummies(df.hour, prefix=\"hour\"))\n",
    "df = df.join(pd.get_dummies(df.days, prefix=\"days\"))\n",
    "df = df.join(pd.get_dummies(df.month, prefix=\"month\"))\n",
    "df = df.join(pd.get_dummies(df.day, prefix=\"day\"))\n",
    "\n",
    "arr = (database.groupby(['neighborhood']))['victims'].unique()\n",
    "count = (database.groupby(['neighborhood']))['victims'].nunique()\n",
    "\n",
    "# Did the LinearRegression thingy\n",
    "# for i in range(0, database.neighborhood.nunique()):\n",
    "#     arr[i] = sum(arr[i])/ count[i]\n",
    "#     df.loc[df.neighborhood == i, 'victims'] = arr[i]\n",
    "    \n",
    "# df.victims = df.victims.astype(int)"
   ]
  },
  {
   "cell_type": "code",
   "execution_count": 6,
   "metadata": {},
   "outputs": [],
   "source": [
    "X_all = df.drop(['Crime'], 1)\n",
    "y_all = df['Crime']\n",
    "\n",
    "X_all = X_all.fillna(0)"
   ]
  },
  {
   "cell_type": "code",
   "execution_count": 7,
   "metadata": {},
   "outputs": [
    {
     "name": "stderr",
     "output_type": "stream",
     "text": [
      "c:\\users\\kshit\\onedrive\\documents\\github\\atlanta_crime\\venv\\lib\\site-packages\\sklearn\\cross_validation.py:41: DeprecationWarning: This module was deprecated in version 0.18 in favor of the model_selection module into which all the refactored classes and functions are moved. Also note that the interface of the new CV iterators are different from that of this module. This module will be removed in 0.20.\n",
      "  \"This module will be removed in 0.20.\", DeprecationWarning)\n"
     ]
    }
   ],
   "source": [
    "from sklearn.cross_validation import train_test_split\n",
    "\n",
    "X_train, X_test, y_train, y_test = train_test_split(X_all, y_all, random_state = 2)"
   ]
  },
  {
   "cell_type": "code",
   "execution_count": 15,
   "metadata": {},
   "outputs": [
    {
     "name": "stdout",
     "output_type": "stream",
     "text": [
      "0.6938795853269537\n",
      "0.38621411483253587\n"
     ]
    },
    {
     "ename": "ValueError",
     "evalue": "multiclass format is not supported",
     "output_type": "error",
     "traceback": [
      "\u001b[1;31m---------------------------------------------------------------------------\u001b[0m",
      "\u001b[1;31mValueError\u001b[0m                                Traceback (most recent call last)",
      "\u001b[1;32m<ipython-input-15-f6262002237d>\u001b[0m in \u001b[0;36m<module>\u001b[1;34m()\u001b[0m\n\u001b[0;32m     24\u001b[0m \u001b[1;33m\u001b[0m\u001b[0m\n\u001b[0;32m     25\u001b[0m \u001b[0mprint\u001b[0m\u001b[1;33m(\u001b[0m\u001b[0msum\u001b[0m\u001b[1;33m(\u001b[0m\u001b[0my_test\u001b[0m \u001b[1;33m==\u001b[0m \u001b[0my_pred\u001b[0m\u001b[1;33m)\u001b[0m \u001b[1;33m/\u001b[0m \u001b[0mfloat\u001b[0m\u001b[1;33m(\u001b[0m\u001b[0mlen\u001b[0m\u001b[1;33m(\u001b[0m\u001b[0my_pred\u001b[0m\u001b[1;33m)\u001b[0m\u001b[1;33m)\u001b[0m\u001b[1;33m)\u001b[0m\u001b[1;33m\u001b[0m\u001b[0m\n\u001b[1;32m---> 26\u001b[1;33m \u001b[0mprecision\u001b[0m\u001b[1;33m,\u001b[0m \u001b[0mrecall\u001b[0m\u001b[1;33m,\u001b[0m \u001b[0m_\u001b[0m \u001b[1;33m=\u001b[0m \u001b[0mprecision_recall_curve\u001b[0m\u001b[1;33m(\u001b[0m\u001b[0my_test\u001b[0m\u001b[1;33m,\u001b[0m \u001b[0mclassif\u001b[0m\u001b[1;33m.\u001b[0m\u001b[0mdecision_function\u001b[0m\u001b[1;33m(\u001b[0m\u001b[0mX_test\u001b[0m\u001b[1;33m)\u001b[0m\u001b[1;33m)\u001b[0m\u001b[1;33m\u001b[0m\u001b[0m\n\u001b[0m\u001b[0;32m     27\u001b[0m plt.step(recall, precision, color='b', alpha=0.2,\n\u001b[0;32m     28\u001b[0m          where='post')\n",
      "\u001b[1;32mc:\\users\\kshit\\onedrive\\documents\\github\\atlanta_crime\\venv\\lib\\site-packages\\sklearn\\metrics\\ranking.py\u001b[0m in \u001b[0;36mprecision_recall_curve\u001b[1;34m(y_true, probas_pred, pos_label, sample_weight)\u001b[0m\n\u001b[0;32m    439\u001b[0m     fps, tps, thresholds = _binary_clf_curve(y_true, probas_pred,\n\u001b[0;32m    440\u001b[0m                                              \u001b[0mpos_label\u001b[0m\u001b[1;33m=\u001b[0m\u001b[0mpos_label\u001b[0m\u001b[1;33m,\u001b[0m\u001b[1;33m\u001b[0m\u001b[0m\n\u001b[1;32m--> 441\u001b[1;33m                                              sample_weight=sample_weight)\n\u001b[0m\u001b[0;32m    442\u001b[0m \u001b[1;33m\u001b[0m\u001b[0m\n\u001b[0;32m    443\u001b[0m     \u001b[0mprecision\u001b[0m \u001b[1;33m=\u001b[0m \u001b[0mtps\u001b[0m \u001b[1;33m/\u001b[0m \u001b[1;33m(\u001b[0m\u001b[0mtps\u001b[0m \u001b[1;33m+\u001b[0m \u001b[0mfps\u001b[0m\u001b[1;33m)\u001b[0m\u001b[1;33m\u001b[0m\u001b[0m\n",
      "\u001b[1;32mc:\\users\\kshit\\onedrive\\documents\\github\\atlanta_crime\\venv\\lib\\site-packages\\sklearn\\metrics\\ranking.py\u001b[0m in \u001b[0;36m_binary_clf_curve\u001b[1;34m(y_true, y_score, pos_label, sample_weight)\u001b[0m\n\u001b[0;32m    316\u001b[0m     if not (y_type == \"binary\" or\n\u001b[0;32m    317\u001b[0m             (y_type == \"multiclass\" and pos_label is not None)):\n\u001b[1;32m--> 318\u001b[1;33m         \u001b[1;32mraise\u001b[0m \u001b[0mValueError\u001b[0m\u001b[1;33m(\u001b[0m\u001b[1;34m\"{0} format is not supported\"\u001b[0m\u001b[1;33m.\u001b[0m\u001b[0mformat\u001b[0m\u001b[1;33m(\u001b[0m\u001b[0my_type\u001b[0m\u001b[1;33m)\u001b[0m\u001b[1;33m)\u001b[0m\u001b[1;33m\u001b[0m\u001b[0m\n\u001b[0m\u001b[0;32m    319\u001b[0m \u001b[1;33m\u001b[0m\u001b[0m\n\u001b[0;32m    320\u001b[0m     \u001b[0mcheck_consistent_length\u001b[0m\u001b[1;33m(\u001b[0m\u001b[0my_true\u001b[0m\u001b[1;33m,\u001b[0m \u001b[0my_score\u001b[0m\u001b[1;33m,\u001b[0m \u001b[0msample_weight\u001b[0m\u001b[1;33m)\u001b[0m\u001b[1;33m\u001b[0m\u001b[0m\n",
      "\u001b[1;31mValueError\u001b[0m: multiclass format is not supported"
     ]
    }
   ],
   "source": [
    "import matplotlib.pyplot as plt\n",
    "\n",
    "classif = OneVsRestClassifier(SVC(kernel = 'rbf'))\n",
    "# classif.fit(X_train, y_train)\n",
    "\n",
    "# classif = RandomForestClassifier()\n",
    "# classif = DecisionTreeClassifier(max_depth = 3)\n",
    "# classif = LinearRegression()\n",
    "classif.fit(X_train, y_train)\n",
    "\n",
    "y_pred = classif.predict(X_train)\n",
    "\n",
    "# print(np.mean((y_pred - y_train) **2))\n",
    "\n",
    "print(sum(y_train == y_pred) / float(len(y_pred)))\n",
    "# print(precision_score(y_train, y_pred, average='micro'))\n",
    "# print(recall_score(y_train, y_pred, average='weighted'))\n",
    "# print(f1_score(y_train, y_pred, average='macro'))\n",
    "\n",
    "y_pred = classif.predict(X_test)\n",
    "\n",
    "# print(np.mean((y_pred - y_test) **2))\n",
    "# print(y_pred)\n",
    "\n",
    "print(sum(y_test == y_pred) / float(len(y_pred)))\n",
    "precision, recall, _ = precision_recall_curve(y_test, classif.decision_function(X_test))\n",
    "plt.step(recall, precision, color='b', alpha=0.2,\n",
    "         where='post')\n",
    "plt.fill_between(recall, precision, step='post', alpha=0.2,\n",
    "                 color='b')\n",
    "\n",
    "plt.xlabel('Recall')\n",
    "plt.ylabel('Precision')\n",
    "plt.ylim([0.0, 1.05])\n",
    "plt.xlim([0.0, 1.0])\n",
    "plt.title('11-class Precision-Recall curve: AP={0:0.2f}'.format(\n",
    "          average_precision))\n",
    "\n",
    "\n",
    "# export_graphviz(classif, out_file='tree.dot')\n",
    "# print(precision_score(y_test, y_pred, average='micro'))\n",
    "# print(f1_score(y_test, y_pred, average='micro'))"
   ]
  },
  {
   "cell_type": "code",
   "execution_count": null,
   "metadata": {},
   "outputs": [],
   "source": []
  }
 ],
 "metadata": {
  "kernelspec": {
   "display_name": "Python 3",
   "language": "python",
   "name": "python3"
  },
  "language_info": {
   "codemirror_mode": {
    "name": "ipython",
    "version": 3
   },
   "file_extension": ".py",
   "mimetype": "text/x-python",
   "name": "python",
   "nbconvert_exporter": "python",
   "pygments_lexer": "ipython3",
   "version": "3.5.2"
  }
 },
 "nbformat": 4,
 "nbformat_minor": 1
}
