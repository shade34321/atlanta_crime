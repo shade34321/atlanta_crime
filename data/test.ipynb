{
 "cells": [
  {
   "cell_type": "code",
   "execution_count": 58,
   "metadata": {},
   "outputs": [],
   "source": [
    "import pandas as pd\n",
    "import numpy as np\n",
    "from sklearn.preprocessing import LabelEncoder"
   ]
  },
  {
   "cell_type": "code",
   "execution_count": 68,
   "metadata": {},
   "outputs": [],
   "source": [
    "database = pd.read_csv('COBRA-YTD2017.csv')"
   ]
  },
  {
   "cell_type": "code",
   "execution_count": 78,
   "metadata": {},
   "outputs": [],
   "source": [
    "array = np.array(database.neighborhood.unique())\n",
    "\n",
    "le = LabelEncoder()\n",
    "\n",
    "# Converts neighbours to classes.\n",
    "le.fit(array.tolist())\n",
    "database.neighborhood = le.fit_transform((np.array(database.neighborhood)).tolist())\n",
    "\n",
    "# Convert days to classes.\n",
    "le.fit((np.array(database['Avg Day'].unique())).tolist())\n",
    "database[\"Avg Day\"] = le.transform((np.array(database[\"Avg Day\"])).tolist())\n",
    "\n",
    "# pd.get_dummies(database[\"Avg Day\"])"
   ]
  },
  {
   "cell_type": "code",
   "execution_count": 73,
   "metadata": {},
   "outputs": [],
   "source": [
    "database['hour'] = pd.to_datetime(database.occur_time).dt.hour"
   ]
  },
  {
   "cell_type": "code",
   "execution_count": 79,
   "metadata": {},
   "outputs": [],
   "source": [
    "database = database.join(pd.get_dummies(database.hour, prefix=\"hour\"))"
   ]
  },
  {
   "cell_type": "code",
   "execution_count": null,
   "metadata": {},
   "outputs": [],
   "source": []
  }
 ],
 "metadata": {
  "kernelspec": {
   "display_name": "Python 3",
   "language": "python",
   "name": "python3"
  },
  "language_info": {
   "codemirror_mode": {
    "name": "ipython",
    "version": 3
   },
   "file_extension": ".py",
   "mimetype": "text/x-python",
   "name": "python",
   "nbconvert_exporter": "python",
   "pygments_lexer": "ipython3",
   "version": "3.6.4"
  }
 },
 "nbformat": 4,
 "nbformat_minor": 2
}
