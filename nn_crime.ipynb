{
 "cells": [
  {
   "cell_type": "code",
   "execution_count": 35,
   "metadata": {},
   "outputs": [],
   "source": [
    "import datetime as dt\n",
    "import numpy as np\n",
    "import pandas as pd\n",
    "import tensorflow as tf\n",
    "\n",
    "from sklearn import preprocessing\n",
    "from sklearn.cross_validation import train_test_split"
   ]
  },
  {
   "cell_type": "code",
   "execution_count": 36,
   "metadata": {},
   "outputs": [],
   "source": [
    "data = pd.read_csv('data/preprocessed_data.csv')"
   ]
  },
  {
   "cell_type": "code",
   "execution_count": 37,
   "metadata": {},
   "outputs": [],
   "source": [
    "location_le = preprocessing.LabelEncoder()\n",
    "crime_le = preprocessing.LabelEncoder()\n",
    "neighborhood_le = preprocessing.LabelEncoder()\n",
    "day_of_week_le = preprocessing.LabelEncoder()\n",
    "\n",
    "location_le.fit(data.location.unique().tolist())\n",
    "crime_le.fit(data.crime.unique().tolist())\n",
    "neighborhood_le.fit(data.neighborhood.unique().tolist())\n",
    "day_of_week_le.fit(data.day_of_week.unique().tolist())\n",
    "\n",
    "data.location = location_le.transform(data.location.tolist())\n",
    "data.crime = crime_le.transform(data.crime.tolist())\n",
    "data.neighborhood = neighborhood_le.transform(data.neighborhood.tolist())\n",
    "data.day_of_week = day_of_week_le.transform(data.day_of_week.tolist())"
   ]
  },
  {
   "cell_type": "code",
   "execution_count": 38,
   "metadata": {},
   "outputs": [],
   "source": [
    "X = data.drop(['crime'], axis=1)\n",
    "y = data['crime']"
   ]
  },
  {
   "cell_type": "code",
   "execution_count": 39,
   "metadata": {},
   "outputs": [],
   "source": [
    "X_train, X_test, y_train, y_test = train_test_split(X, y, random_state = 4)"
   ]
  },
  {
   "cell_type": "code",
   "execution_count": null,
   "metadata": {},
   "outputs": [],
   "source": []
  }
 ],
 "metadata": {
  "kernelspec": {
   "display_name": "Python 3",
   "language": "python",
   "name": "python3"
  },
  "language_info": {
   "codemirror_mode": {
    "name": "ipython",
    "version": 3
   },
   "file_extension": ".py",
   "mimetype": "text/x-python",
   "name": "python",
   "nbconvert_exporter": "python",
   "pygments_lexer": "ipython3",
   "version": "3.6.4"
  }
 },
 "nbformat": 4,
 "nbformat_minor": 2
}
